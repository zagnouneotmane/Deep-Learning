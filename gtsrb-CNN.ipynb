{
 "cells": [
  {
   "cell_type": "markdown",
   "metadata": {},
   "source": [
    "# *Traffic Sign Recognizer - 99% accuracy*"
   ]
  },
  {
   "cell_type": "markdown",
   "metadata": {},
   "source": [
    "## Importing Required Libraries"
   ]
  },
  {
   "cell_type": "code",
   "execution_count": 1,
   "metadata": {
    "execution": {
     "iopub.execute_input": "2022-06-02T14:09:59.161213Z",
     "iopub.status.busy": "2022-06-02T14:09:59.160880Z",
     "iopub.status.idle": "2022-06-02T14:10:04.622470Z",
     "shell.execute_reply": "2022-06-02T14:10:04.621716Z",
     "shell.execute_reply.started": "2022-06-02T14:09:59.161184Z"
    }
   },
   "outputs": [],
   "source": [
    "import numpy as np\n",
    "import pandas as pd\n",
    "import os\n",
    "import cv2\n",
    "import matplotlib.pyplot as plt\n",
    "import tensorflow as tf\n",
    "from tensorflow import keras\n",
    "from sklearn.model_selection import train_test_split\n",
    "from tensorflow.keras.preprocessing.image import ImageDataGenerator\n",
    "from tensorflow.keras.optimizers import Adam\n",
    "from sklearn.metrics import accuracy_score\n",
    "np.random.seed(42)\n",
    "\n",
    "from matplotlib import style\n",
    "style.use('fivethirtyeight')"
   ]
  },
  {
   "cell_type": "markdown",
   "metadata": {},
   "source": [
    "## Assigning Path for Dataset"
   ]
  },
  {
   "cell_type": "code",
   "execution_count": 2,
   "metadata": {
    "execution": {
     "iopub.execute_input": "2022-06-02T14:10:12.172122Z",
     "iopub.status.busy": "2022-06-02T14:10:12.171500Z",
     "iopub.status.idle": "2022-06-02T14:10:12.177191Z",
     "shell.execute_reply": "2022-06-02T14:10:12.175921Z",
     "shell.execute_reply.started": "2022-06-02T14:10:12.172073Z"
    }
   },
   "outputs": [],
   "source": [
    "data_dir = '../input/gtsrb-german-traffic-sign'\n",
    "train_path = '../input/gtsrb-german-traffic-sign/Train'\n",
    "test_path = '../input/gtsrb-german-traffic-sign/'\n",
    "\n",
    "# Resizing the images to 32x32x3\n",
    "IMG_HEIGHT = 32\n",
    "IMG_WIDTH = 32\n",
    "channels = 3"
   ]
  },
  {
   "cell_type": "markdown",
   "metadata": {},
   "source": [
    "## Finding Total Classes"
   ]
  },
  {
   "cell_type": "code",
   "execution_count": 3,
   "metadata": {
    "execution": {
     "iopub.execute_input": "2022-06-02T14:10:14.971339Z",
     "iopub.status.busy": "2022-06-02T14:10:14.970991Z",
     "iopub.status.idle": "2022-06-02T14:10:14.996377Z",
     "shell.execute_reply": "2022-06-02T14:10:14.995630Z",
     "shell.execute_reply.started": "2022-06-02T14:10:14.971306Z"
    }
   },
   "outputs": [],
   "source": [
    "NUM_CATEGORIES = len(os.listdir(train_path))\n",
    "NUM_CATEGORIES"
   ]
  },
  {
   "cell_type": "code",
   "execution_count": 4,
   "metadata": {
    "execution": {
     "iopub.execute_input": "2022-06-02T14:10:17.157547Z",
     "iopub.status.busy": "2022-06-02T14:10:17.157195Z",
     "iopub.status.idle": "2022-06-02T14:10:17.169119Z",
     "shell.execute_reply": "2022-06-02T14:10:17.166540Z",
     "shell.execute_reply.started": "2022-06-02T14:10:17.157502Z"
    }
   },
   "outputs": [],
   "source": [
    "# Label Overview\n",
    "classes = { 0:'Speed limit (20km/h)',\n",
    "            1:'Speed limit (30km/h)', \n",
    "            2:'Speed limit (50km/h)', \n",
    "            3:'Speed limit (60km/h)', \n",
    "            4:'Speed limit (70km/h)', \n",
    "            5:'Speed limit (80km/h)', \n",
    "            6:'End of speed limit (80km/h)', \n",
    "            7:'Speed limit (100km/h)', \n",
    "            8:'Speed limit (120km/h)', \n",
    "            9:'No passing', \n",
    "            10:'No passing veh over 3.5 tons', \n",
    "            11:'Right-of-way at intersection', \n",
    "            12:'Priority road', \n",
    "            13:'Yield', \n",
    "            14:'Stop', \n",
    "            15:'No vehicles', \n",
    "            16:'Veh > 3.5 tons prohibited', \n",
    "            17:'No entry', \n",
    "            18:'General caution', \n",
    "            19:'Dangerous curve left', \n",
    "            20:'Dangerous curve right', \n",
    "            21:'Double curve', \n",
    "            22:'Bumpy road', \n",
    "            23:'Slippery road', \n",
    "            24:'Road narrows on the right', \n",
    "            25:'Road work', \n",
    "            26:'Traffic signals', \n",
    "            27:'Pedestrians', \n",
    "            28:'Children crossing', \n",
    "            29:'Bicycles crossing', \n",
    "            30:'Beware of ice/snow',\n",
    "            31:'Wild animals crossing', \n",
    "            32:'End speed + passing limits', \n",
    "            33:'Turn right ahead', \n",
    "            34:'Turn left ahead', \n",
    "            35:'Ahead only', \n",
    "            36:'Go straight or right', \n",
    "            37:'Go straight or left', \n",
    "            38:'Keep right', \n",
    "            39:'Keep left', \n",
    "            40:'Roundabout mandatory', \n",
    "            41:'End of no passing', \n",
    "            42:'End no passing veh > 3.5 tons' }"
   ]
  },
  {
   "cell_type": "markdown",
   "metadata": {},
   "source": [
    "## Visualizing The Dataset"
   ]
  },
  {
   "cell_type": "code",
   "execution_count": null,
   "metadata": {
    "_cell_guid": "79c7e3d0-c299-4dcb-8224-4455121ee9b0",
    "_uuid": "d629ff2d2480ee46fbb7e2d37f6b5fab8052498a",
    "execution": {
     "iopub.execute_input": "2022-06-01T23:37:12.22836Z",
     "iopub.status.busy": "2022-06-01T23:37:12.228018Z",
     "iopub.status.idle": "2022-06-01T23:37:12.713204Z",
     "shell.execute_reply": "2022-06-01T23:37:12.71225Z",
     "shell.execute_reply.started": "2022-06-01T23:37:12.22833Z"
    }
   },
   "outputs": [],
   "source": [
    "folders = os.listdir(train_path)\n",
    "\n",
    "train_number = []\n",
    "class_num = []\n",
    "\n",
    "for folder in folders:\n",
    "    train_files = os.listdir(train_path + '/' + folder)\n",
    "    train_number.append(len(train_files))\n",
    "    class_num.append(classes[int(folder)])\n",
    "    \n",
    "# Sorting the dataset on the basis of number of images in each class\n",
    "zipped_lists = zip(train_number, class_num)\n",
    "sorted_pairs = sorted(zipped_lists)\n",
    "tuples = zip(*sorted_pairs)\n",
    "train_number, class_num = [ list(tuple) for tuple in  tuples]\n",
    "\n",
    "# Plotting the number of images in each class\n",
    "plt.figure(figsize=(21,10))  \n",
    "plt.bar(class_num, train_number)\n",
    "plt.xticks(class_num, rotation='vertical')\n",
    "plt.show()"
   ]
  },
  {
   "cell_type": "code",
   "execution_count": null,
   "metadata": {
    "execution": {
     "iopub.execute_input": "2022-05-26T22:15:35.385263Z",
     "iopub.status.busy": "2022-05-26T22:15:35.384912Z",
     "iopub.status.idle": "2022-05-26T22:15:38.976979Z",
     "shell.execute_reply": "2022-05-26T22:15:38.975163Z",
     "shell.execute_reply.started": "2022-05-26T22:15:35.385231Z"
    }
   },
   "outputs": [],
   "source": [
    "# Visualizing 25 random images from test data\n",
    "import random\n",
    "from matplotlib.image import imread\n",
    "\n",
    "test = pd.read_csv(data_dir + '/Test.csv')\n",
    "imgs = test[\"Path\"].values\n",
    "\n",
    "plt.figure(figsize=(25,25))\n",
    "\n",
    "for i in range(1,26):\n",
    "    plt.subplot(5,5,i)\n",
    "    random_img_path = data_dir + '/' + random.choice(imgs)\n",
    "    rand_img = imread(random_img_path)\n",
    "    plt.imshow(rand_img)\n",
    "    plt.grid(b=None)\n",
    "    plt.xlabel(rand_img.shape[1], fontsize = 20)#width of image\n",
    "    plt.ylabel(rand_img.shape[0], fontsize = 20)#height of image"
   ]
  },
  {
   "cell_type": "markdown",
   "metadata": {},
   "source": [
    "## Collecting the Training Data"
   ]
  },
  {
   "cell_type": "code",
   "execution_count": 5,
   "metadata": {
    "execution": {
     "iopub.execute_input": "2022-06-02T14:10:27.427515Z",
     "iopub.status.busy": "2022-06-02T14:10:27.427187Z",
     "iopub.status.idle": "2022-06-02T14:14:29.831258Z",
     "shell.execute_reply": "2022-06-02T14:14:29.830311Z",
     "shell.execute_reply.started": "2022-06-02T14:10:27.427484Z"
    }
   },
   "outputs": [],
   "source": [
    "image_data = []\n",
    "image_labels = []\n",
    "\n",
    "for i in range(NUM_CATEGORIES):\n",
    "    path = data_dir + '/Train/' + str(i)\n",
    "    images = os.listdir(path)\n",
    "\n",
    "    for img in images:\n",
    "        try:\n",
    "            image = cv2.imread(path + '/' + img)\n",
    "            resize_image = cv2.resize(image, (IMG_HEIGHT, IMG_WIDTH)) \n",
    "            image_data.append(resize_image)\n",
    "            image_labels.append(i)\n",
    "        except:\n",
    "            print(\"Error in \" + img)\n",
    "# Changing the list to numpy array\n",
    "image_data = np.array(image_data)\n",
    "image_labels = np.array(image_labels)\n",
    "\n",
    "print(image_data.shape, image_labels.shape)"
   ]
  },
  {
   "cell_type": "markdown",
   "metadata": {},
   "source": [
    "## Loading the test data"
   ]
  },
  {
   "cell_type": "code",
   "execution_count": 27,
   "metadata": {
    "execution": {
     "iopub.execute_input": "2022-06-02T14:49:58.595731Z",
     "iopub.status.busy": "2022-06-02T14:49:58.595366Z",
     "iopub.status.idle": "2022-06-02T14:50:14.562042Z",
     "shell.execute_reply": "2022-06-02T14:50:14.561048Z",
     "shell.execute_reply.started": "2022-06-02T14:49:58.595697Z"
    }
   },
   "outputs": [],
   "source": [
    "test = pd.read_csv(data_dir + '/Test.csv')\n",
    "\n",
    "labels = test[\"ClassId\"].values\n",
    "imgs = test[\"Path\"].values\n",
    "\n",
    "data =[]\n",
    "\n",
    "for img in imgs:\n",
    "    try:\n",
    "        image = cv2.imread(data_dir + '/' +img)\n",
    "        resize_image = cv2.resize(image, (IMG_HEIGHT, IMG_WIDTH))\n",
    "        data.append(resize_image)\n",
    "    except:\n",
    "        print(\"Error in \" + img)\n",
    "X_test = np.array(data)\n",
    "print(X_test.shape, labels.shape)\n"
   ]
  },
  {
   "cell_type": "markdown",
   "metadata": {},
   "source": [
    "## Shuffling the training data"
   ]
  },
  {
   "cell_type": "code",
   "execution_count": 28,
   "metadata": {
    "execution": {
     "iopub.execute_input": "2022-06-02T14:51:15.018678Z",
     "iopub.status.busy": "2022-06-02T14:51:15.018316Z",
     "iopub.status.idle": "2022-06-02T14:51:15.068263Z",
     "shell.execute_reply": "2022-06-02T14:51:15.067288Z",
     "shell.execute_reply.started": "2022-06-02T14:51:15.018630Z"
    }
   },
   "outputs": [],
   "source": [
    "shuffle_indexes = np.arange(image_data.shape[0])\n",
    "print(shuffle_indexes)\n",
    "np.random.shuffle(shuffle_indexes)\n",
    "print(shuffle_indexes)\n",
    "image_data = image_data[shuffle_indexes]\n",
    "image_labels = image_labels[shuffle_indexes]\n"
   ]
  },
  {
   "cell_type": "markdown",
   "metadata": {},
   "source": [
    "## Splitting the data into train and validation set"
   ]
  },
  {
   "cell_type": "code",
   "execution_count": 29,
   "metadata": {
    "execution": {
     "iopub.execute_input": "2022-06-02T14:51:31.178856Z",
     "iopub.status.busy": "2022-06-02T14:51:31.178486Z",
     "iopub.status.idle": "2022-06-02T14:51:31.231789Z",
     "shell.execute_reply": "2022-06-02T14:51:31.230784Z",
     "shell.execute_reply.started": "2022-06-02T14:51:31.178825Z"
    }
   },
   "outputs": [],
   "source": [
    "X_train, X_val, y_train, y_val = train_test_split(image_data, image_labels, test_size=0.3, random_state=42, shuffle=True)\n",
    "#X_train = X_train/255 \n",
    "#X_val = X_val/255\n",
    "#X_test = X_test/255\n",
    "print(\"X_train.shape\", X_train.shape)\n",
    "print(\"X_valid.shape\", X_val.shape)\n",
    "print(\"y_train.shape\", y_train.shape)\n",
    "print(\"y_valid.shape\", y_val.shape)"
   ]
  },
  {
   "cell_type": "markdown",
   "metadata": {},
   "source": [
    "## Prétraitement des données à l’aide d’OpenCV"
   ]
  },
  {
   "cell_type": "code",
   "execution_count": 32,
   "metadata": {
    "execution": {
     "iopub.execute_input": "2022-06-02T14:52:55.282284Z",
     "iopub.status.busy": "2022-06-02T14:52:55.281951Z",
     "iopub.status.idle": "2022-06-02T14:52:56.211175Z",
     "shell.execute_reply": "2022-06-02T14:52:56.210397Z",
     "shell.execute_reply.started": "2022-06-02T14:52:55.282254Z"
    }
   },
   "outputs": [],
   "source": [
    "def preprocessing(img): \n",
    "    img = cv2.cvtColor(img, cv2.COLOR_BGR2GRAY) \n",
    "    img = cv2.equalizeHist(img) \n",
    "    img = img / 255\n",
    "    return img \n",
    "  \n",
    "X_train = np.array(list(map(preprocessing, X_train))) \n",
    "X_val = np.array(list(map(preprocessing, X_val)))\n",
    "X_test = np.array(list(map(preprocessing, X_test))) \n",
    "\n",
    "print(XX_train.shape) \n",
    "print(XX_val.shape) \n",
    "print(XX_test.shape) "
   ]
  },
  {
   "cell_type": "code",
   "execution_count": 33,
   "metadata": {
    "execution": {
     "iopub.execute_input": "2022-06-02T14:53:06.802629Z",
     "iopub.status.busy": "2022-06-02T14:53:06.802209Z",
     "iopub.status.idle": "2022-06-02T14:53:06.808217Z",
     "shell.execute_reply": "2022-06-02T14:53:06.807274Z",
     "shell.execute_reply.started": "2022-06-02T14:53:06.802584Z"
    }
   },
   "outputs": [],
   "source": [
    "X_train = X_train.reshape(27446, 32, 32, 1) \n",
    "X_val = X_val.reshape(11763, 32, 32, 1) \n",
    "X_test = X_test.reshape(12630, 32, 32, 1) \n"
   ]
  },
  {
   "cell_type": "markdown",
   "metadata": {},
   "source": [
    "## One hot encoding the labels"
   ]
  },
  {
   "cell_type": "code",
   "execution_count": 34,
   "metadata": {
    "execution": {
     "iopub.execute_input": "2022-06-02T14:53:14.498877Z",
     "iopub.status.busy": "2022-06-02T14:53:14.498525Z",
     "iopub.status.idle": "2022-06-02T14:53:14.511169Z",
     "shell.execute_reply": "2022-06-02T14:53:14.509936Z",
     "shell.execute_reply.started": "2022-06-02T14:53:14.498847Z"
    }
   },
   "outputs": [],
   "source": [
    "print(y_train[0])\n",
    "y_train = keras.utils.to_categorical(y_train, NUM_CATEGORIES)\n",
    "y_val = keras.utils.to_categorical(y_val, NUM_CATEGORIES)\n",
    "y_test = keras.utils.to_categorical(labels, NUM_CATEGORIES)\n",
    "print(y_train.shape)\n",
    "print(y_val.shape)\n",
    "print(y_train[0])"
   ]
  },
  {
   "cell_type": "markdown",
   "metadata": {},
   "source": [
    "## Making the model"
   ]
  },
  {
   "cell_type": "code",
   "execution_count": 35,
   "metadata": {
    "execution": {
     "iopub.execute_input": "2022-06-02T14:53:17.685562Z",
     "iopub.status.busy": "2022-06-02T14:53:17.685197Z",
     "iopub.status.idle": "2022-06-02T14:53:17.830828Z",
     "shell.execute_reply": "2022-06-02T14:53:17.830093Z",
     "shell.execute_reply.started": "2022-06-02T14:53:17.685528Z"
    }
   },
   "outputs": [],
   "source": [
    "model = keras.models.Sequential([    \n",
    "    keras.layers.Conv2D(filters=32, kernel_size=(3,3), activation='relu', input_shape=(IMG_HEIGHT,IMG_WIDTH,1)),\n",
    "    keras.layers.Conv2D(filters=64, kernel_size=(3,3), activation='relu'),\n",
    "    keras.layers.MaxPool2D(pool_size=(2, 2)),\n",
    "    keras.layers.BatchNormalization(axis=-1),\n",
    "    \n",
    "    keras.layers.Conv2D(filters=64, kernel_size=(3,3), activation='relu'),\n",
    "    keras.layers.Conv2D(filters=128, kernel_size=(3,3), activation='relu'),\n",
    "    keras.layers.MaxPool2D(pool_size=(2, 2)),\n",
    "    keras.layers.BatchNormalization(axis=-1),\n",
    "  \n",
    "    keras.layers.Flatten(),\n",
    "    keras.layers.Dense(512, activation='relu'),\n",
    "    keras.layers.BatchNormalization(),\n",
    "    keras.layers.Dropout(rate=0.5),\n",
    "    \n",
    "    keras.layers.Dense(43, activation='softmax')\n",
    "])\n",
    "model.summary()"
   ]
  },
  {
   "cell_type": "code",
   "execution_count": 36,
   "metadata": {
    "execution": {
     "iopub.execute_input": "2022-06-02T14:53:21.373871Z",
     "iopub.status.busy": "2022-06-02T14:53:21.373523Z",
     "iopub.status.idle": "2022-06-02T14:53:21.389609Z",
     "shell.execute_reply": "2022-06-02T14:53:21.388858Z",
     "shell.execute_reply.started": "2022-06-02T14:53:21.373838Z"
    }
   },
   "outputs": [],
   "source": [
    "lr = 0.001\n",
    "epochs = 10\n",
    "#, decay=lr / (epochs * 0.5)\n",
    "opt = Adam(lr=lr, decay=lr / (epochs * 0.5))\n",
    "model.compile(loss='categorical_crossentropy', optimizer=opt, metrics=['accuracy'])"
   ]
  },
  {
   "cell_type": "markdown",
   "metadata": {},
   "source": [
    "## Augmenting the data "
   ]
  },
  {
   "cell_type": "code",
   "execution_count": 37,
   "metadata": {
    "execution": {
     "iopub.execute_input": "2022-06-02T14:53:24.195560Z",
     "iopub.status.busy": "2022-06-02T14:53:24.195110Z",
     "iopub.status.idle": "2022-06-02T14:53:24.316101Z",
     "shell.execute_reply": "2022-06-02T14:53:24.311324Z",
     "shell.execute_reply.started": "2022-06-02T14:53:24.195516Z"
    }
   },
   "outputs": [],
   "source": [
    "aug = ImageDataGenerator(\n",
    "    rotation_range=10,\n",
    "    zoom_range=0.15,\n",
    "    width_shift_range=0.1,\n",
    "    height_shift_range=0.1,\n",
    "    shear_range=0.15,\n",
    "    horizontal_flip=False,\n",
    "    vertical_flip=False,\n",
    "    fill_mode=\"nearest\")\n",
    "aug.fit(X_train)\n",
    "#aug.fit(X_val)"
   ]
  },
  {
   "cell_type": "markdown",
   "metadata": {},
   "source": [
    "## Training the model"
   ]
  },
  {
   "cell_type": "code",
   "execution_count": 38,
   "metadata": {
    "execution": {
     "iopub.execute_input": "2022-06-02T14:53:28.963498Z",
     "iopub.status.busy": "2022-06-02T14:53:28.963153Z",
     "iopub.status.idle": "2022-06-02T14:55:33.626894Z",
     "shell.execute_reply": "2022-06-02T14:55:33.626156Z",
     "shell.execute_reply.started": "2022-06-02T14:53:28.963465Z"
    }
   },
   "outputs": [],
   "source": [
    "history = model.fit(aug.flow(X_train, y_train, batch_size=32), epochs=epochs, validation_data=(X_val, y_val))"
   ]
  },
  {
   "cell_type": "markdown",
   "metadata": {},
   "source": [
    "## Evaluating the model"
   ]
  },
  {
   "cell_type": "code",
   "execution_count": null,
   "metadata": {
    "execution": {
     "iopub.execute_input": "2022-05-27T19:44:34.175727Z",
     "iopub.status.busy": "2022-05-27T19:44:34.175348Z",
     "iopub.status.idle": "2022-05-27T19:44:34.183456Z",
     "shell.execute_reply": "2022-05-27T19:44:34.182525Z",
     "shell.execute_reply.started": "2022-05-27T19:44:34.175692Z"
    }
   },
   "outputs": [],
   "source": [
    "print(np.mean(history.history['loss']))\n",
    "print(np.mean(history.history['accuracy']))\n",
    "print(np.mean(history.history['val_loss']))\n",
    "print(np.mean(history.history['val_accuracy']))"
   ]
  },
  {
   "cell_type": "code",
   "execution_count": 39,
   "metadata": {
    "execution": {
     "iopub.execute_input": "2022-06-02T14:55:58.584591Z",
     "iopub.status.busy": "2022-06-02T14:55:58.584245Z",
     "iopub.status.idle": "2022-06-02T14:55:58.732735Z",
     "shell.execute_reply": "2022-06-02T14:55:58.731848Z",
     "shell.execute_reply.started": "2022-06-02T14:55:58.584559Z"
    }
   },
   "outputs": [],
   "source": [
    "plt.plot(history.history['loss']) \n",
    "plt.plot(history.history['val_loss']) \n",
    "plt.legend(['training_loss', 'validation_loss']) \n",
    "plt.title('Loss') \n",
    "plt.xlabel('epoch') "
   ]
  },
  {
   "cell_type": "code",
   "execution_count": 17,
   "metadata": {
    "execution": {
     "iopub.execute_input": "2022-06-02T14:20:28.144616Z",
     "iopub.status.busy": "2022-06-02T14:20:28.144273Z",
     "iopub.status.idle": "2022-06-02T14:20:28.306020Z",
     "shell.execute_reply": "2022-06-02T14:20:28.305141Z",
     "shell.execute_reply.started": "2022-06-02T14:20:28.144587Z"
    }
   },
   "outputs": [],
   "source": [
    "plt.plot(history.history['accuracy']) \n",
    "plt.plot(history.history['val_accuracy']) \n",
    "plt.legend(['training_acc', 'validation_acc']) \n",
    "plt.title('accuracy') \n",
    "plt.xlabel('epoch') "
   ]
  },
  {
   "cell_type": "code",
   "execution_count": null,
   "metadata": {
    "execution": {
     "iopub.execute_input": "2022-06-01T21:29:01.622305Z",
     "iopub.status.busy": "2022-06-01T21:29:01.621882Z",
     "iopub.status.idle": "2022-06-01T21:29:01.873407Z",
     "shell.execute_reply": "2022-06-01T21:29:01.872541Z",
     "shell.execute_reply.started": "2022-06-01T21:29:01.622267Z"
    }
   },
   "outputs": [],
   "source": [
    "pd.DataFrame(history.history).plot(figsize=(8, 5))\n",
    "plt.grid(True)\n",
    "plt.gca().set_ylim(0, 1)\n",
    "plt.show()"
   ]
  },
  {
   "cell_type": "markdown",
   "metadata": {},
   "source": [
    "## Running the predictions"
   ]
  },
  {
   "cell_type": "code",
   "execution_count": 40,
   "metadata": {
    "execution": {
     "iopub.execute_input": "2022-06-02T14:56:04.093129Z",
     "iopub.status.busy": "2022-06-02T14:56:04.092791Z",
     "iopub.status.idle": "2022-06-02T14:56:04.680602Z",
     "shell.execute_reply": "2022-06-02T14:56:04.679708Z",
     "shell.execute_reply.started": "2022-06-02T14:56:04.093097Z"
    }
   },
   "outputs": [],
   "source": [
    "#pred = model.predict_classes(X_test)\n",
    "predict_x=model.predict(X_test) \n",
    "print(predict_x.shape)\n",
    "print(predict_x[0])\n",
    "print(np.sum(predict_x,axis=1))\n",
    "classes_x=np.argmax(predict_x,axis=1)\n",
    "pred=classes_x\n",
    "print(pred)\n",
    "#Accuracy with the test data\n",
    "print('Test Data accuracy: ',accuracy_score(labels, pred)*100)"
   ]
  },
  {
   "cell_type": "code",
   "execution_count": 19,
   "metadata": {
    "execution": {
     "iopub.execute_input": "2022-06-02T14:20:37.307977Z",
     "iopub.status.busy": "2022-06-02T14:20:37.307605Z",
     "iopub.status.idle": "2022-06-02T14:20:38.437836Z",
     "shell.execute_reply": "2022-06-02T14:20:38.436996Z",
     "shell.execute_reply.started": "2022-06-02T14:20:37.307945Z"
    }
   },
   "outputs": [],
   "source": [
    "model.evaluate(X_test, y_test)"
   ]
  },
  {
   "cell_type": "markdown",
   "metadata": {},
   "source": [
    "## Visualizing the confusion matrix"
   ]
  },
  {
   "cell_type": "code",
   "execution_count": null,
   "metadata": {
    "execution": {
     "iopub.execute_input": "2022-06-01T21:37:05.570069Z",
     "iopub.status.busy": "2022-06-01T21:37:05.569622Z",
     "iopub.status.idle": "2022-06-01T21:37:05.611512Z",
     "shell.execute_reply": "2022-06-01T21:37:05.610603Z",
     "shell.execute_reply.started": "2022-06-01T21:37:05.570027Z"
    }
   },
   "outputs": [],
   "source": [
    "from sklearn.metrics import confusion_matrix\n",
    "cf = confusion_matrix(labels, pred)"
   ]
  },
  {
   "cell_type": "code",
   "execution_count": null,
   "metadata": {
    "execution": {
     "iopub.execute_input": "2022-06-01T21:37:10.064548Z",
     "iopub.status.busy": "2022-06-01T21:37:10.064212Z",
     "iopub.status.idle": "2022-06-01T21:37:14.901576Z",
     "shell.execute_reply": "2022-06-01T21:37:14.900692Z",
     "shell.execute_reply.started": "2022-06-01T21:37:10.064511Z"
    }
   },
   "outputs": [],
   "source": [
    "import seaborn as sns\n",
    "df_cm = pd.DataFrame(cf, index = classes,  columns = classes)\n",
    "plt.figure(figsize = (20,20))\n",
    "sns.heatmap(df_cm, annot=True)\n",
    "plt.xlabel('Predicted Label')\n",
    "plt.ylabel('True Label')"
   ]
  },
  {
   "cell_type": "markdown",
   "metadata": {},
   "source": [
    "## Classification report"
   ]
  },
  {
   "cell_type": "code",
   "execution_count": null,
   "metadata": {
    "execution": {
     "iopub.execute_input": "2022-06-01T21:29:38.72007Z",
     "iopub.status.busy": "2022-06-01T21:29:38.719628Z",
     "iopub.status.idle": "2022-06-01T21:29:38.762429Z",
     "shell.execute_reply": "2022-06-01T21:29:38.761568Z",
     "shell.execute_reply.started": "2022-06-01T21:29:38.720027Z"
    }
   },
   "outputs": [],
   "source": [
    "from sklearn.metrics import classification_report\n",
    "\n",
    "print(classification_report(labels, pred))"
   ]
  },
  {
   "cell_type": "markdown",
   "metadata": {},
   "source": [
    "## Predictions on Test Data"
   ]
  },
  {
   "cell_type": "code",
   "execution_count": 50,
   "metadata": {
    "execution": {
     "iopub.execute_input": "2022-06-02T15:13:59.716340Z",
     "iopub.status.busy": "2022-06-02T15:13:59.715990Z",
     "iopub.status.idle": "2022-06-02T15:14:00.779355Z",
     "shell.execute_reply": "2022-06-02T15:14:00.778359Z",
     "shell.execute_reply.started": "2022-06-02T15:13:59.716309Z"
    }
   },
   "outputs": [],
   "source": [
    "plt.figure(figsize = (25, 25))\n",
    "\n",
    "start_index = 0\n",
    "for i in range(25):\n",
    "    plt.subplot(5, 5, i + 1)\n",
    "    plt.grid(False)\n",
    "    plt.xticks([])\n",
    "    plt.yticks([])\n",
    "    prediction = pred[start_index + i]\n",
    "    actual = labels[start_index + i]\n",
    "    col = 'g'\n",
    "    if prediction != actual:\n",
    "        col = 'r'\n",
    "    plt.xlabel('Actual={} || Pred={}'.format(actual, prediction), color = col)\n",
    "    plt.imshow(X_test[start_index + i].reshape(IMG_HEIGHT,IMG_WIDTH), cmap='gray')\n",
    "plt.show()"
   ]
  }
 ],
 "metadata": {
  "kernelspec": {
   "display_name": "Python 3 (ipykernel)",
   "language": "python",
   "name": "python3"
  },
  "language_info": {
   "codemirror_mode": {
    "name": "ipython",
    "version": 3
   },
   "file_extension": ".py",
   "mimetype": "text/x-python",
   "name": "python",
   "nbconvert_exporter": "python",
   "pygments_lexer": "ipython3",
   "version": "3.9.12"
  }
 },
 "nbformat": 4,
 "nbformat_minor": 4
}
